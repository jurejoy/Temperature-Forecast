{
 "cells": [
  {
   "cell_type": "code",
   "execution_count": 13,
   "metadata": {},
   "outputs": [],
   "source": [
    "import pandas as pd\n",
    "import os\n",
    "MXCHIP_PATH = 'd:\\\\onedrive - microsoft\\\\ml\\\\mxchip'\n",
    "\n",
    "def load_mxchip_data(MXCHIP_PATH):\n",
    "    csv_path = os.path.join(MXCHIP_PATH, \"mxchip.csv\")\n",
    "    return pd.read_csv(csv_path)"
   ]
  },
  {
   "cell_type": "code",
   "execution_count": 14,
   "metadata": {
    "scrolled": true
   },
   "outputs": [],
   "source": [
    "mxchip = load_mxchip_data(MXCHIP_PATH)"
   ]
  },
  {
   "cell_type": "code",
   "execution_count": 15,
   "metadata": {
    "scrolled": false
   },
   "outputs": [
    {
     "data": {
      "text/html": [
       "<div>\n",
       "<style scoped>\n",
       "    .dataframe tbody tr th:only-of-type {\n",
       "        vertical-align: middle;\n",
       "    }\n",
       "\n",
       "    .dataframe tbody tr th {\n",
       "        vertical-align: top;\n",
       "    }\n",
       "\n",
       "    .dataframe thead th {\n",
       "        text-align: right;\n",
       "    }\n",
       "</style>\n",
       "<table border=\"1\" class=\"dataframe\">\n",
       "  <thead>\n",
       "    <tr style=\"text-align: right;\">\n",
       "      <th></th>\n",
       "      <th>humidity</th>\n",
       "      <th>temp</th>\n",
       "      <th>pressure</th>\n",
       "      <th>magnetometerX</th>\n",
       "      <th>magnetometerY</th>\n",
       "      <th>magnetometerZ</th>\n",
       "      <th>accelerometerX</th>\n",
       "      <th>accelerometerY</th>\n",
       "      <th>accelerometerZ</th>\n",
       "      <th>gyroscopeX</th>\n",
       "      <th>gyroscopeY</th>\n",
       "      <th>gyroscopeZ</th>\n",
       "      <th>EventProcessedUtcTime</th>\n",
       "      <th>PartitionId</th>\n",
       "      <th>EventEnqueuedUtcTime</th>\n",
       "      <th>IoTHub</th>\n",
       "    </tr>\n",
       "  </thead>\n",
       "  <tbody>\n",
       "    <tr>\n",
       "      <th>0</th>\n",
       "      <td>69.8</td>\n",
       "      <td>11.1</td>\n",
       "      <td>1026.09</td>\n",
       "      <td>-105</td>\n",
       "      <td>267</td>\n",
       "      <td>90</td>\n",
       "      <td>-550</td>\n",
       "      <td>-535</td>\n",
       "      <td>704</td>\n",
       "      <td>-770</td>\n",
       "      <td>-3010</td>\n",
       "      <td>140</td>\n",
       "      <td>2018-01-04T02:51:31.9118042Z</td>\n",
       "      <td>0</td>\n",
       "      <td>2018-01-04T02:49:30.5200000Z</td>\n",
       "      <td>Record</td>\n",
       "    </tr>\n",
       "    <tr>\n",
       "      <th>1</th>\n",
       "      <td>69.7</td>\n",
       "      <td>11.1</td>\n",
       "      <td>1026.08</td>\n",
       "      <td>-111</td>\n",
       "      <td>266</td>\n",
       "      <td>85</td>\n",
       "      <td>-550</td>\n",
       "      <td>-535</td>\n",
       "      <td>705</td>\n",
       "      <td>-770</td>\n",
       "      <td>-3080</td>\n",
       "      <td>140</td>\n",
       "      <td>2018-01-04T02:51:32.1732819Z</td>\n",
       "      <td>0</td>\n",
       "      <td>2018-01-04T02:49:35.6340000Z</td>\n",
       "      <td>Record</td>\n",
       "    </tr>\n",
       "    <tr>\n",
       "      <th>2</th>\n",
       "      <td>70.0</td>\n",
       "      <td>11.1</td>\n",
       "      <td>1026.08</td>\n",
       "      <td>-104</td>\n",
       "      <td>269</td>\n",
       "      <td>84</td>\n",
       "      <td>-550</td>\n",
       "      <td>-535</td>\n",
       "      <td>704</td>\n",
       "      <td>-770</td>\n",
       "      <td>-2870</td>\n",
       "      <td>210</td>\n",
       "      <td>2018-01-04T02:51:32.1732819Z</td>\n",
       "      <td>0</td>\n",
       "      <td>2018-01-04T02:49:41.7520000Z</td>\n",
       "      <td>Record</td>\n",
       "    </tr>\n",
       "    <tr>\n",
       "      <th>3</th>\n",
       "      <td>69.8</td>\n",
       "      <td>11.1</td>\n",
       "      <td>1026.06</td>\n",
       "      <td>-108</td>\n",
       "      <td>273</td>\n",
       "      <td>84</td>\n",
       "      <td>-550</td>\n",
       "      <td>-534</td>\n",
       "      <td>706</td>\n",
       "      <td>-700</td>\n",
       "      <td>-2940</td>\n",
       "      <td>140</td>\n",
       "      <td>2018-01-04T02:51:32.1732819Z</td>\n",
       "      <td>0</td>\n",
       "      <td>2018-01-04T02:49:47.8540000Z</td>\n",
       "      <td>Record</td>\n",
       "    </tr>\n",
       "    <tr>\n",
       "      <th>4</th>\n",
       "      <td>69.9</td>\n",
       "      <td>11.3</td>\n",
       "      <td>1026.06</td>\n",
       "      <td>-107</td>\n",
       "      <td>270</td>\n",
       "      <td>84</td>\n",
       "      <td>-550</td>\n",
       "      <td>-535</td>\n",
       "      <td>706</td>\n",
       "      <td>-700</td>\n",
       "      <td>-3010</td>\n",
       "      <td>140</td>\n",
       "      <td>2018-01-04T02:51:32.1732819Z</td>\n",
       "      <td>0</td>\n",
       "      <td>2018-01-04T02:49:52.9700000Z</td>\n",
       "      <td>Record</td>\n",
       "    </tr>\n",
       "  </tbody>\n",
       "</table>\n",
       "</div>"
      ],
      "text/plain": [
       "   humidity  temp  pressure  magnetometerX  magnetometerY  magnetometerZ  \\\n",
       "0      69.8  11.1   1026.09           -105            267             90   \n",
       "1      69.7  11.1   1026.08           -111            266             85   \n",
       "2      70.0  11.1   1026.08           -104            269             84   \n",
       "3      69.8  11.1   1026.06           -108            273             84   \n",
       "4      69.9  11.3   1026.06           -107            270             84   \n",
       "\n",
       "   accelerometerX  accelerometerY  accelerometerZ  gyroscopeX  gyroscopeY  \\\n",
       "0            -550            -535             704        -770       -3010   \n",
       "1            -550            -535             705        -770       -3080   \n",
       "2            -550            -535             704        -770       -2870   \n",
       "3            -550            -534             706        -700       -2940   \n",
       "4            -550            -535             706        -700       -3010   \n",
       "\n",
       "   gyroscopeZ         EventProcessedUtcTime  PartitionId  \\\n",
       "0         140  2018-01-04T02:51:31.9118042Z            0   \n",
       "1         140  2018-01-04T02:51:32.1732819Z            0   \n",
       "2         210  2018-01-04T02:51:32.1732819Z            0   \n",
       "3         140  2018-01-04T02:51:32.1732819Z            0   \n",
       "4         140  2018-01-04T02:51:32.1732819Z            0   \n",
       "\n",
       "           EventEnqueuedUtcTime  IoTHub  \n",
       "0  2018-01-04T02:49:30.5200000Z  Record  \n",
       "1  2018-01-04T02:49:35.6340000Z  Record  \n",
       "2  2018-01-04T02:49:41.7520000Z  Record  \n",
       "3  2018-01-04T02:49:47.8540000Z  Record  \n",
       "4  2018-01-04T02:49:52.9700000Z  Record  "
      ]
     },
     "execution_count": 15,
     "metadata": {},
     "output_type": "execute_result"
    }
   ],
   "source": [
    "mxchip.head()"
   ]
  },
  {
   "cell_type": "code",
   "execution_count": 16,
   "metadata": {},
   "outputs": [],
   "source": [
    "from numpy import genfromtxt\n",
    "mxchip_array = genfromtxt('d:\\\\onedrive - microsoft\\\\ml\\\\mxchip\\\\mxchip.csv', delimiter=',')"
   ]
  },
  {
   "cell_type": "code",
   "execution_count": 17,
   "metadata": {},
   "outputs": [
    {
     "data": {
      "text/html": [
       "<div>\n",
       "<style scoped>\n",
       "    .dataframe tbody tr th:only-of-type {\n",
       "        vertical-align: middle;\n",
       "    }\n",
       "\n",
       "    .dataframe tbody tr th {\n",
       "        vertical-align: top;\n",
       "    }\n",
       "\n",
       "    .dataframe thead th {\n",
       "        text-align: right;\n",
       "    }\n",
       "</style>\n",
       "<table border=\"1\" class=\"dataframe\">\n",
       "  <thead>\n",
       "    <tr style=\"text-align: right;\">\n",
       "      <th></th>\n",
       "      <th>humidity</th>\n",
       "      <th>temp</th>\n",
       "      <th>pressure</th>\n",
       "      <th>magnetometerX</th>\n",
       "      <th>magnetometerY</th>\n",
       "      <th>magnetometerZ</th>\n",
       "      <th>accelerometerX</th>\n",
       "      <th>accelerometerY</th>\n",
       "      <th>accelerometerZ</th>\n",
       "      <th>gyroscopeX</th>\n",
       "      <th>gyroscopeY</th>\n",
       "      <th>gyroscopeZ</th>\n",
       "      <th>PartitionId</th>\n",
       "    </tr>\n",
       "  </thead>\n",
       "  <tbody>\n",
       "    <tr>\n",
       "      <th>count</th>\n",
       "      <td>5950.000000</td>\n",
       "      <td>5950.000000</td>\n",
       "      <td>5950.000000</td>\n",
       "      <td>5950.000000</td>\n",
       "      <td>5950.000000</td>\n",
       "      <td>5950.000000</td>\n",
       "      <td>5950.000000</td>\n",
       "      <td>5950.000000</td>\n",
       "      <td>5950.000000</td>\n",
       "      <td>5950.000000</td>\n",
       "      <td>5950.000000</td>\n",
       "      <td>5950.000000</td>\n",
       "      <td>5950.0</td>\n",
       "    </tr>\n",
       "    <tr>\n",
       "      <th>mean</th>\n",
       "      <td>69.775647</td>\n",
       "      <td>10.960050</td>\n",
       "      <td>1023.019771</td>\n",
       "      <td>-106.914958</td>\n",
       "      <td>270.076303</td>\n",
       "      <td>84.173782</td>\n",
       "      <td>-538.055630</td>\n",
       "      <td>-541.191597</td>\n",
       "      <td>707.180504</td>\n",
       "      <td>-728.435294</td>\n",
       "      <td>-2983.094118</td>\n",
       "      <td>147.588235</td>\n",
       "      <td>0.0</td>\n",
       "    </tr>\n",
       "    <tr>\n",
       "      <th>std</th>\n",
       "      <td>2.457343</td>\n",
       "      <td>0.513557</td>\n",
       "      <td>1.203978</td>\n",
       "      <td>6.245321</td>\n",
       "      <td>4.295235</td>\n",
       "      <td>4.131522</td>\n",
       "      <td>47.776706</td>\n",
       "      <td>24.485781</td>\n",
       "      <td>9.252043</td>\n",
       "      <td>60.794223</td>\n",
       "      <td>87.267341</td>\n",
       "      <td>36.223868</td>\n",
       "      <td>0.0</td>\n",
       "    </tr>\n",
       "    <tr>\n",
       "      <th>min</th>\n",
       "      <td>67.100000</td>\n",
       "      <td>10.200000</td>\n",
       "      <td>1021.750000</td>\n",
       "      <td>-116.000000</td>\n",
       "      <td>261.000000</td>\n",
       "      <td>61.000000</td>\n",
       "      <td>-550.000000</td>\n",
       "      <td>-671.000000</td>\n",
       "      <td>703.000000</td>\n",
       "      <td>-2240.000000</td>\n",
       "      <td>-5530.000000</td>\n",
       "      <td>-420.000000</td>\n",
       "      <td>0.0</td>\n",
       "    </tr>\n",
       "    <tr>\n",
       "      <th>25%</th>\n",
       "      <td>68.000000</td>\n",
       "      <td>10.700000</td>\n",
       "      <td>1022.190000</td>\n",
       "      <td>-110.000000</td>\n",
       "      <td>268.000000</td>\n",
       "      <td>83.000000</td>\n",
       "      <td>-549.000000</td>\n",
       "      <td>-536.000000</td>\n",
       "      <td>704.000000</td>\n",
       "      <td>-770.000000</td>\n",
       "      <td>-3010.000000</td>\n",
       "      <td>140.000000</td>\n",
       "      <td>0.0</td>\n",
       "    </tr>\n",
       "    <tr>\n",
       "      <th>50%</th>\n",
       "      <td>68.800000</td>\n",
       "      <td>10.900000</td>\n",
       "      <td>1022.450000</td>\n",
       "      <td>-108.000000</td>\n",
       "      <td>270.000000</td>\n",
       "      <td>85.000000</td>\n",
       "      <td>-549.000000</td>\n",
       "      <td>-536.000000</td>\n",
       "      <td>705.000000</td>\n",
       "      <td>-700.000000</td>\n",
       "      <td>-3010.000000</td>\n",
       "      <td>140.000000</td>\n",
       "      <td>0.0</td>\n",
       "    </tr>\n",
       "    <tr>\n",
       "      <th>75%</th>\n",
       "      <td>70.600000</td>\n",
       "      <td>11.100000</td>\n",
       "      <td>1023.387500</td>\n",
       "      <td>-106.000000</td>\n",
       "      <td>271.000000</td>\n",
       "      <td>86.000000</td>\n",
       "      <td>-548.000000</td>\n",
       "      <td>-535.000000</td>\n",
       "      <td>706.000000</td>\n",
       "      <td>-700.000000</td>\n",
       "      <td>-2940.000000</td>\n",
       "      <td>140.000000</td>\n",
       "      <td>0.0</td>\n",
       "    </tr>\n",
       "    <tr>\n",
       "      <th>max</th>\n",
       "      <td>75.700000</td>\n",
       "      <td>13.600000</td>\n",
       "      <td>1026.200000</td>\n",
       "      <td>-49.000000</td>\n",
       "      <td>306.000000</td>\n",
       "      <td>94.000000</td>\n",
       "      <td>-283.000000</td>\n",
       "      <td>-534.000000</td>\n",
       "      <td>755.000000</td>\n",
       "      <td>-490.000000</td>\n",
       "      <td>-2730.000000</td>\n",
       "      <td>280.000000</td>\n",
       "      <td>0.0</td>\n",
       "    </tr>\n",
       "  </tbody>\n",
       "</table>\n",
       "</div>"
      ],
      "text/plain": [
       "          humidity         temp     pressure  magnetometerX  magnetometerY  \\\n",
       "count  5950.000000  5950.000000  5950.000000    5950.000000    5950.000000   \n",
       "mean     69.775647    10.960050  1023.019771    -106.914958     270.076303   \n",
       "std       2.457343     0.513557     1.203978       6.245321       4.295235   \n",
       "min      67.100000    10.200000  1021.750000    -116.000000     261.000000   \n",
       "25%      68.000000    10.700000  1022.190000    -110.000000     268.000000   \n",
       "50%      68.800000    10.900000  1022.450000    -108.000000     270.000000   \n",
       "75%      70.600000    11.100000  1023.387500    -106.000000     271.000000   \n",
       "max      75.700000    13.600000  1026.200000     -49.000000     306.000000   \n",
       "\n",
       "       magnetometerZ  accelerometerX  accelerometerY  accelerometerZ  \\\n",
       "count    5950.000000     5950.000000     5950.000000     5950.000000   \n",
       "mean       84.173782     -538.055630     -541.191597      707.180504   \n",
       "std         4.131522       47.776706       24.485781        9.252043   \n",
       "min        61.000000     -550.000000     -671.000000      703.000000   \n",
       "25%        83.000000     -549.000000     -536.000000      704.000000   \n",
       "50%        85.000000     -549.000000     -536.000000      705.000000   \n",
       "75%        86.000000     -548.000000     -535.000000      706.000000   \n",
       "max        94.000000     -283.000000     -534.000000      755.000000   \n",
       "\n",
       "        gyroscopeX   gyroscopeY   gyroscopeZ  PartitionId  \n",
       "count  5950.000000  5950.000000  5950.000000       5950.0  \n",
       "mean   -728.435294 -2983.094118   147.588235          0.0  \n",
       "std      60.794223    87.267341    36.223868          0.0  \n",
       "min   -2240.000000 -5530.000000  -420.000000          0.0  \n",
       "25%    -770.000000 -3010.000000   140.000000          0.0  \n",
       "50%    -700.000000 -3010.000000   140.000000          0.0  \n",
       "75%    -700.000000 -2940.000000   140.000000          0.0  \n",
       "max    -490.000000 -2730.000000   280.000000          0.0  "
      ]
     },
     "execution_count": 17,
     "metadata": {},
     "output_type": "execute_result"
    }
   ],
   "source": [
    "mxchip.describe()"
   ]
  },
  {
   "cell_type": "code",
   "execution_count": 16,
   "metadata": {},
   "outputs": [
    {
     "data": {
      "image/png": "[encoded data removed]",
      "text/plain": [
       "<matplotlib.figure.Figure at 0x1ff23300c18>"
      ]
     },
     "metadata": {},
     "output_type": "display_data"
    }
   ],
   "source": [
    "%matplotlib inline\n",
    "import matplotlib.pyplot as plt\n",
    "mxchip.hist(bins=50, figsize=(20,15))\n",
    "plt.show()"
   ]
  },
  {
   "cell_type": "code",
   "execution_count": 34,
   "metadata": {},
   "outputs": [],
   "source": [
    "import tensorflow as tf\n",
    "tf.reset_default_graph()\n",
    "\n",
    "\n",
    "n_steps = 20\n",
    "n_inputs = 1\n",
    "n_neurons = 100\n",
    "n_outputs = 1\n",
    "\n",
    "X = tf.placeholder(tf.float32, [None, n_steps, n_inputs])\n",
    "y = tf.placeholder(tf.float32, [None, n_steps, n_outputs])\n",
    "cell = tf.contrib.rnn.BasicRNNCell(num_units=n_neurons, activation=tf.nn.relu)\n",
    "outputs, states = tf.nn.dynamic_rnn(cell, X, dtype=tf.float32)"
   ]
  },
  {
   "cell_type": "code",
   "execution_count": 35,
   "metadata": {},
   "outputs": [],
   "source": [
    "cell = tf.contrib.rnn.OutputProjectionWrapper(\n",
    "    tf.contrib.rnn.BasicRNNCell(num_units=n_neurons, activation=tf.nn.relu),\n",
    "    output_size=n_outputs)"
   ]
  },
  {
   "cell_type": "code",
   "execution_count": 36,
   "metadata": {},
   "outputs": [],
   "source": [
    "learning_rate = 0.001\n",
    "\n",
    "loss = tf.reduce_mean(tf.square(outputs - y))\n",
    "optimizer = tf.train.AdamOptimizer(learning_rate=learning_rate)\n",
    "training_op = optimizer.minimize(loss)\n",
    "\n",
    "init = tf.global_variables_initializer()\n",
    "saver = tf.train.Saver()"
   ]
  },
  {
   "cell_type": "code",
   "execution_count": 40,
   "metadata": {},
   "outputs": [
    {
     "name": "stdout",
     "output_type": "stream",
     "text": [
      "0 \tMSE: 112.90325\n",
      "100 \tMSE: 35.073673\n",
      "200 \tMSE: 29.487154\n",
      "300 \tMSE: 27.540676\n",
      "400 \tMSE: 26.40036\n",
      "500 \tMSE: 25.677948\n",
      "600 \tMSE: 23.884918\n",
      "700 \tMSE: 23.01943\n",
      "800 \tMSE: 22.113028\n",
      "900 \tMSE: 21.32587\n",
      "1000 \tMSE: 21.70932\n",
      "1100 \tMSE: 20.914919\n",
      "1200 \tMSE: 20.73536\n",
      "1300 \tMSE: 22.572054\n",
      "1400 \tMSE: 21.545153\n",
      "1500 \tMSE: 21.454437\n",
      "1600 \tMSE: 20.534575\n",
      "1700 \tMSE: 20.560469\n",
      "1800 \tMSE: 21.02863\n",
      "1900 \tMSE: 20.881535\n",
      "2000 \tMSE: 20.247309\n",
      "2100 \tMSE: 19.873129\n",
      "2200 \tMSE: 20.31319\n",
      "2300 \tMSE: 19.916512\n",
      "2400 \tMSE: 18.598639\n",
      "2500 \tMSE: 18.86541\n",
      "2600 \tMSE: 18.565172\n",
      "2700 \tMSE: 18.125004\n",
      "2800 \tMSE: 17.867132\n",
      "2900 \tMSE: 17.8814\n",
      "3000 \tMSE: 17.655422\n",
      "3100 \tMSE: 17.542\n",
      "3200 \tMSE: 17.403938\n",
      "3300 \tMSE: 17.549423\n",
      "3400 \tMSE: 17.047611\n",
      "3500 \tMSE: 17.16931\n",
      "3600 \tMSE: 16.821188\n",
      "3700 \tMSE: 16.944475\n",
      "3800 \tMSE: 16.369583\n",
      "3900 \tMSE: 16.503069\n",
      "4000 \tMSE: 16.248634\n",
      "4100 \tMSE: 16.585451\n",
      "4200 \tMSE: 16.539837\n",
      "4300 \tMSE: 16.534954\n",
      "4400 \tMSE: 16.436218\n",
      "4500 \tMSE: 16.478273\n",
      "4600 \tMSE: 16.303734\n",
      "4700 \tMSE: 18.31855\n",
      "4800 \tMSE: 18.348932\n",
      "4900 \tMSE: 18.95795\n"
     ]
    }
   ],
   "source": [
    "n_iterations = 5000\n",
    "batch_size = 20  \n",
    "\n",
    "with tf.Session() as sess:\n",
    "    init.run()\n",
    "    for iteration in range(n_iterations):\n",
    "        X_batch = mxchip_tmp[iteration:(iteration+20),]\n",
    "        y_batch = mxchip_tmp[(iteration+1):(iteration+21),]\n",
    "        X_batch = X_batch.reshape(1,20,1)\n",
    "        y_batch = X_batch.reshape(1,20,1)\n",
    "        sess.run(training_op, feed_dict={X: X_batch, y: y_batch})\n",
    "        if iteration % 100 == 0:\n",
    "            mse = loss.eval(feed_dict={X: X_batch, y: y_batch})\n",
    "            print(iteration, \"\\tMSE:\", mse)\n",
    "    save_path = saver.save(sess, \"./temp_model.ckpt\")"
   ]
  },
  {
   "cell_type": "code",
   "execution_count": 18,
   "metadata": {},
   "outputs": [
    {
     "data": {
      "text/plain": [
       "array([[    nan,     nan,     nan, ...,     nan,     nan,     nan],\n",
       "       [  69.8 ,   11.1 , 1026.09, ...,    0.  ,     nan,     nan],\n",
       "       [  69.7 ,   11.1 , 1026.08, ...,    0.  ,     nan,     nan],\n",
       "       ...,\n",
       "       [  72.9 ,   13.3 , 1022.19, ...,    0.  ,     nan,     nan],\n",
       "       [  72.6 ,   13.4 , 1022.15, ...,    0.  ,     nan,     nan],\n",
       "       [  72.8 ,   13.3 , 1022.17, ...,    0.  ,     nan,     nan]])"
      ]
     },
     "execution_count": 18,
     "metadata": {},
     "output_type": "execute_result"
    }
   ],
   "source": [
    "mxchip_array"
   ]
  },
  {
   "cell_type": "code",
   "execution_count": 19,
   "metadata": {},
   "outputs": [],
   "source": [
    "mxchip_tmp = mxchip_array[:,1]"
   ]
  },
  {
   "cell_type": "code",
   "execution_count": 20,
   "metadata": {},
   "outputs": [
    {
     "data": {
      "text/plain": [
       "array([ nan, 11.1, 11.1, ..., 13.3, 13.4, 13.3])"
      ]
     },
     "execution_count": 20,
     "metadata": {},
     "output_type": "execute_result"
    }
   ],
   "source": [
    "mxchip_tmp"
   ]
  },
  {
   "cell_type": "code",
   "execution_count": 21,
   "metadata": {},
   "outputs": [],
   "source": [
    "import numpy\n",
    "mxchip_tmp = numpy.delete(mxchip_tmp,(0),axis=0)"
   ]
  },
  {
   "cell_type": "code",
   "execution_count": 88,
   "metadata": {},
   "outputs": [],
   "source": [
    "mxchip_tmp = mxchip_tmp[0:9,]"
   ]
  },
  {
   "cell_type": "code",
   "execution_count": 22,
   "metadata": {},
   "outputs": [
    {
     "data": {
      "text/plain": [
       "array([11.1, 11.1, 11.1, ..., 13.3, 13.4, 13.3])"
      ]
     },
     "execution_count": 22,
     "metadata": {},
     "output_type": "execute_result"
    }
   ],
   "source": [
    "mxchip_tmp"
   ]
  },
  {
   "cell_type": "code",
   "execution_count": 42,
   "metadata": {},
   "outputs": [
    {
     "name": "stdout",
     "output_type": "stream",
     "text": [
      "INFO:tensorflow:Restoring parameters from ./temp_model.ckpt\n"
     ]
    }
   ],
   "source": [
    "with tf.Session() as sess:\n",
    "    saver.restore(sess, \"./temp_model.ckpt\")\n",
    "    X_new = [11.1, 11.1, 11.1,11.1,11.3,11.2,11.2,11.3,11.2,11.3,11.2,11.2,11.3,11.4,11.3,11.4,11.3,11.3,11.3,11.4]\n",
    "    X_new = X_batch.reshape(1,20,1)\n",
    "    y_pred = sess.run(outputs, feed_dict={X: X_new})"
   ]
  },
  {
   "cell_type": "code",
   "execution_count": 50,
   "metadata": {},
   "outputs": [
    {
     "name": "stdout",
     "output_type": "stream",
     "text": [
      "[[[11. ]\n",
      "  [11. ]\n",
      "  [11.1]\n",
      "  [11. ]\n",
      "  [11. ]\n",
      "  [10.9]\n",
      "  [10.9]\n",
      "  [11. ]\n",
      "  [11. ]\n",
      "  [10.9]\n",
      "  [10.9]\n",
      "  [11. ]\n",
      "  [11. ]\n",
      "  [11. ]\n",
      "  [11. ]\n",
      "  [11. ]\n",
      "  [11. ]\n",
      "  [11.1]\n",
      "  [11.1]\n",
      "  [11.1]]]\n",
      "[[[ 0.         0.         7.0817375 ...  0.         0.         0.       ]\n",
      "  [ 0.         0.        11.081022  ... 11.073389   0.        11.066631 ]\n",
      "  [ 0.         0.        11.0690565 ... 11.021012   0.        11.009116 ]\n",
      "  ...\n",
      "  [ 0.         0.        11.050434  ... 11.00449    0.        11.010362 ]\n",
      "  [ 0.         0.        11.086128  ... 11.099735   0.        11.112113 ]\n",
      "  [ 0.         0.        11.085093  ... 11.1014805  0.        11.111249 ]]]\n"
     ]
    }
   ],
   "source": [
    "X_new = [11.1, 11.1, 11.1,11.1,11.3,11.2,11.2,11.3,11.2,11.3,11.2,11.2,11.3,11.4,11.3,11.4,11.3,11.3,11.3,11.4]\n",
    "X_new = X_batch.reshape(1,20,1)\n",
    "print(X_new)\n",
    "print(y_pred)"
   ]
  },
  {
   "cell_type": "code",
   "execution_count": null,
   "metadata": {},
   "outputs": [],
   "source": []
  }
 ],
 "metadata": {
  "kernelspec": {
   "display_name": "Python 3",
   "language": "python",
   "name": "python3"
  },
  "language_info": {
   "codemirror_mode": {
    "name": "ipython",
    "version": 3
   },
   "file_extension": ".py",
   "mimetype": "text/x-python",
   "name": "python",
   "nbconvert_exporter": "python",
   "pygments_lexer": "ipython3",
   "version": "3.6.2"
  }
 },
 "nbformat": 4,
 "nbformat_minor": 2
}
